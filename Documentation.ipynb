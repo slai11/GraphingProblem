{
 "cells": [
  {
   "cell_type": "markdown",
   "metadata": {},
   "source": [
    "# Retrospective study on human movement and dengue transmission\n",
    "This study will focus on examining the daily movement between the 323 URA-demarcated subzones and its relation to the location and severity of dengue hotspots in Singapore. \n",
    "\n",
    "Datasets\n",
    "* Starhub customer location data\n",
    "* Data.gov.sg daily updated dengue data\n",
    "\n",
    "Content\n",
    "1. Data cleaning and preprocessing\n",
    "2. Exploration (via visualisation of nodes)\n",
    "3. Feature generation\n",
    "4. Visualisation using Gephi and Qgis\n",
    "5. Model building"
   ]
  },
  {
   "cell_type": "markdown",
   "metadata": {},
   "source": [
    "## Preprocessing\n",
    "Includes\n",
    "* extracting coordinate data from shapefiles and writing into CSV (to eliminate excessive work)\n",
    "* generate graphs\n",
    "    1. main graph of subzones\n",
    "    2. breeding habitat graph\n",
    "    3. combined graph"
   ]
  },
  {
   "cell_type": "code",
   "execution_count": 1,
   "metadata": {
    "collapsed": false
   },
   "outputs": [],
   "source": [
    "import pandas as pd\n",
    "import networkx as nx\n",
    "\n",
    "network_data = pd.read_csv(\"Data/network_20160511.csv\")\n",
    "subzone_data = pd.read_csv(\"Data/Processed/subzonedatav5.csv\")\n",
    "\n",
    "# dropping of within-subzone movements\n",
    "network_data = network_data.drop(network_data[network_data.Source == network_data.Target].index)\n",
    "\n",
    "# normalizing flow rates by maximum\n",
    "network_data['Weight'] = network_data['Weight'].astype(float)\n",
    "network_data['Weight_norm_by_max'] = (network_data['Weight'] - min(network_data['Weight'])) /\\\n",
    "                                    (max(network_data['Weight']) - min(network_data['Weight']))\n",
    "\n",
    "subset = network_data[[\"Source\", \"Target\", \"Weight_norm_by_max\"]]\n",
    "edge_list = [tuple(x) for x in subset.values]\n",
    "\n",
    "#make graph\n",
    "graph = nx.DiGraph()"
   ]
  },
  {
   "cell_type": "markdown",
   "metadata": {},
   "source": [
    "Before we can explore the data properly, we should obtain the more data about the subzones such as:\n",
    "- coordinates (shapefile)\n",
    "- area (shapefile)\n",
    "- population (singstats)\n",
    "\n",
    "pyshp will be used to extract data from the shapefiles."
   ]
  },
  {
   "cell_type": "code",
   "execution_count": 2,
   "metadata": {
    "collapsed": false
   },
   "outputs": [
    {
     "name": "stdout",
     "output_type": "stream",
     "text": [
      "[('Admiralty', 103.8254828, 1.452254864, 1.2678233233833636), ('Airport Road', 103.8977353, 1.352038409, 0.4969026039741493), ('Alexandra Hill', 103.8088676, 1.2877747265, 1.0353530017485264), ('Alexandra North', 103.82079415, 1.292470169, 0.29512538163786306), ('Aljunied', 103.88352485, 1.3137638425, 2.97368052370417), ('Anak Bukit', 103.77125785000001, 1.337743053, 2.7817625823261825), ('Anchorvale', 103.88871105, 1.393893125, 1.5064086884463541), ('Ang Mo Kio Town Centre', 103.84721355, 1.3730629405, 0.3184235303006517), ('Anson', 103.8437544, 1.2741290809999999, 0.10373656647610005), ('Balestier', 103.85146465, 1.324511639, 1.9359494881998127), ('Bangkit', 103.77419225, 1.3772382570000001, 0.7668942195514774), ('Bayfront Subzone', 103.85840125, 1.2829658575, 0.5237166361103027), ('Bayshore', 103.94863674999999, 1.3140862715, 2.5627887967974856), ('Bedok North', 103.9356975, 1.3297659204999999, 3.219167983389798), ('Bedok Reservoir', 103.92914505, 1.340509488, 2.3908588348051034), ('Bedok South', 103.94580529999999, 1.3221111190000001, 3.011796679729105), ('Bencoolen', 103.8515418, 1.3016208384999999, 0.17148925666390824), ('Bendemeer', 103.86083305, 1.322210094, 1.383495701931679), ('Benoi Sector', 103.6875566, 1.3162634265, 2.0524997021353286), ('Bidadari', 103.87598135, 1.340950957, 0.5752769447231276), ('Bishan East', 103.85343805, 1.3517665975, 1.803165381006511), ('Boat Quay', 103.84805994999999, 1.2876274269999999, 0.16158381613699022), ('Boon Keng', 103.8724533, 1.3153650159999999, 0.4129812494325597), ('Boon Lay Place', 103.71069345000001, 1.3460786395, 0.9107074457698855), ('Boon Teck', 103.85303744999999, 1.335593115, 0.4206845355416954), ('Boulevard', 103.83211209999999, 1.305113366, 0.4627766192636591), ('Braddell', 103.84984725000001, 1.3402633505, 0.44840340455793015), ('Bras Basah', 103.84913560000001, 1.2958245430000002, 0.2242851787475411), ('Brickworks', 103.74248225, 1.356256899, 1.2316191655988404), ('Bugis', 103.85607395, 1.2992262504999998, 0.2815292544300701), ('Bukit Batok Central', 103.75107170000001, 1.348211169, 0.8041775844409585), ('Bukit Batok East', 103.7567944, 1.348633596, 0.3820456127329635), ('Bukit Batok South', 103.75621509999999, 1.339583213, 1.815308100437278), ('Bukit Batok West', 103.7421188, 1.3478800205, 0.5289353202615257), ('Bukit Ho Swee', 103.83028719999999, 1.2893663185, 0.5543958527274481), ('Bukit Merah', 103.818387, 1.2819854115, 0.41370978119662144), ('Cairnhill', 103.83745415000001, 1.3062553745, 0.45465840681074043), ('Cecil', 103.84894639999999, 1.2784761875, 0.19756852430019536), ('Central Subzone', 103.85199845, 1.2759705945, 1.0758846494473346), ('Central Water Catchment', 103.8043786, 1.376001061, 37.328440836294696), ('Changi Airport', 104.00215925, 1.3513344825, 35.26592903106686), ('Changi Bay', 104.02943145, 1.3380595080000002, 1.8153978441713208), ('Changi Point', 103.98192275, 1.3905087040000002, 1.0007850800637517), ('Changi West', 103.9776049, 1.3653496865, 4.8720456987801395), ('Chatsworth', 103.82389075, 1.2984625685000002, 1.3526549509863435), ('Cheng San', 103.8543277, 1.372880023, 0.9603551119400527), ('Chin Bee', 103.71348545000001, 1.335526159, 1.2941843625515868), ('China Square', 103.84682915, 1.284363479, 0.1336482415971659), ('Chinatown', 103.8443916, 1.279701776, 0.5900542450402463), ('Choa Chu Kang Central', 103.7477558, 1.384213183, 1.1026347043577698), ('Choa Chu Kang North', 103.74674160000001, 1.391690948, 1.0939342778707033), ('Chong Boon', 103.85532755, 1.3626902855, 1.0838613799045471), ('City Hall', 103.85420135, 1.2929678990000002, 0.7140001956226115), ('City Terminals', 103.83790174999999, 1.264955267, 3.4662580590577456), ('Clarke Quay', 103.84474019999999, 1.2897763174999999, 0.2915850810367101), ('Clementi Central', 103.76296615000001, 1.312706618, 0.7516610118926564), ('Clementi North', 103.76618005, 1.3180875859999999, 0.9958313689834996), ('Clementi West', 103.76223920000001, 1.3013878515, 0.7008710326287838), ('Clementi Woods', 103.76783585, 1.3022940635, 1.0585851497298244), ('Clifford Pier', 103.8551039, 1.2849670715000001, 0.2631062000994189), ('Commonwealth', 103.79974494999999, 1.3049282325, 0.3120148121840612), ('Compassvale', 103.88961739999999, 1.3856688215, 1.0985337901787353), ('Coney Island', 103.92287505, 1.4087480165, 1.2066550863812244), ('Coronation Road', 103.80298189999999, 1.3260099890000001, 1.4319833412036134), ('Crawford', 103.86425215, 1.300497593, 0.8549653436144945), ('Dairy Farm', 103.77203605, 1.368879305, 1.241905773354847), ('Defu Industrial Park', 103.89745504999999, 1.3504285464999999, 1.983945394683051), ('Depot Road', 103.8094963, 1.282070348, 0.4446375507564062), ('Dhoby Ghaut', 103.8454086, 1.2991046110000002, 0.22304523966776288), ('Dover', 103.77924535, 1.3035832185, 1.3933416008447421), ('Dunearn', 103.82109735, 1.3266030299999998, 1.2358476140744916), ('East Coast', 103.90889645, 1.299685606, 0.5946368794603041), ('Everton Park', 103.83559985, 1.276078272, 0.638768608709488), ('Faber', 103.75644475, 1.321675924, 0.9527432747855256), ('Fajar', 103.77101780000001, 1.384498029, 0.6717060402763037), ('Farrer Court', 103.80583695, 1.3163070605, 0.5614640473255077), ('Farrer Park', 103.85208835, 1.309260535, 0.24908657827138087), ('Fernvale', 103.87782155, 1.3943693695, 2.4027250828752766), ('Flora Drive', 103.96650919999999, 1.359241801, 0.9495813177130004), ('Fort Canning', 103.8457541, 1.293751467, 0.38695232270489216), ('Frankel', 103.9197294, 1.3148526294999998, 4.3179171165323265), ('Gali Batu', 103.76321395, 1.4003660194999998, 5.211382673349053), ('Geylang Bahru', 103.8709772, 1.3217545954999999, 0.7390596918065422), ('Geylang East', 103.89779300000001, 1.3173399080000001, 2.5915573399534697), ('Ghim Moh', 103.7872984, 1.3117348935, 0.48739318212122273), ('Gombak', 103.7576842, 1.36930037, 2.471041793919076), ('Goodwood Park', 103.83385774999999, 1.313146988, 0.3529423891136139), ('Greenwood Park', 103.784856, 1.44662069, 1.2875621903227967), ('Guilin', 103.75365215, 1.3565972735, 1.0903407297189915), ('Gul Basin', 103.67358515000001, 1.3020976444999999, 1.7780353374719926), ('Gul Circle', 103.66749485, 1.31533905, 3.276142615771969), ('Henderson Hill', 103.8225928, 1.286527565, 0.5983029576505305), ('Hillcrest', 103.80822574999999, 1.332542681, 2.649253285203777), ('Hillview', 103.76360725, 1.3562050669999999, 2.000445994523852), ('Holland Drive', 103.7950563, 1.3083635820000001, 0.4617663620072108), ('Holland Road', 103.78316605, 1.3275451464999999, 3.409322178972707), ('Hong Kah', 103.720068, 1.34940949, 1.802157052139437), ('Hong Kah North', 103.74688295, 1.362751294, 0.863351216828878), ('Hougang Central', 103.89130915, 1.369332851, 0.44387643740063143), ('Hougang East', 103.89817615000001, 1.3753608575, 0.8467592168845931), ('Hougang West', 103.88459535, 1.3749705725, 1.335335745463035), ('Institution Hill', 103.8373669, 1.2936294780000002, 0.3944592098947851), ('International Business Park', 103.7483292, 1.326765692, 0.4873723160133432), ('Istana Negara', 103.8449256, 1.305047186, 0.5461100693179287), ('Jelebu', 103.76654655, 1.375280396, 0.9156366938585234), ('Joo Koon', 103.68001989999999, 1.3264248895000001, 2.360736982638855), ('Joo Seng', 103.88225455, 1.3366777205, 1.0622859784665708), ('Jurong Gateway', 103.7427347, 1.3328346485, 0.5573086470968883), ('Jurong Island and Bukom', 103.71639880000001, 1.2567892145, 32.51981843452716), ('Jurong Port', 103.71930625, 1.3059889725, 2.4767652671129143), ('Jurong River', 103.72868595, 1.3193104045, 2.573384317981363), ('Jurong West Central', 103.7021938, 1.3410011714999999, 1.4113379609821823), ('Kaki Bukit', 103.9078591, 1.335667118, 2.83383170826648), ('Kallang Bahru', 103.8653525, 1.3145493805, 0.8435501813854172), ('Kallang Way', 103.87508274999999, 1.3257568215000002, 0.9678631511730237), ('Kampong Bugis', 103.87067454999999, 1.3082551434999998, 0.7450210608416546), ('Kampong Glam', 103.8596168, 1.3023956795, 0.17216143812807788), ('Kampong Java', 103.85100985, 1.313064411, 1.0272353748062142), ('Kampong Tiong Bahru', 103.8280546, 1.2784936789999999, 0.3670937815797152), ('Kampong Ubi', 103.89736225, 1.3303685255, 1.8871830088148909), ('Kangkar', 103.8980704, 1.3709605329999999, 1.0123102806820226), ('Katong', 103.90220095000001, 1.307631725, 1.0842060063163899), ('Keat Hong', 103.74647250000001, 1.3752697325, 1.1493752001881967), ('Kebun Bahru', 103.83926, 1.3735432105, 1.0515019921024578), ('Kembangan', 103.91611879999999, 1.3250180624999999, 2.3988298212134853), ('Kent Ridge', 103.7927282, 1.285940959, 1.835664954316535), ('Khatib', 103.82904640000001, 1.418189678, 1.4399056898152593), ('Kian Teck', 103.69455525000001, 1.334099885, 2.108328036366911), ('Kim Keat', 103.85854615, 1.3316700204999998, 0.37156210085273417), ('Kovan', 103.88210315, 1.3617726565, 1.9580716475956799), ('Kranji', 103.75975654999999, 1.4336143165, 3.669864623706617), ('Lakeside', 103.7335759, 1.3341984525, 3.123069352869634), ('Lavender', 103.85936095, 1.3114082395, 0.7615727485915522), ('Leedon Park', 103.79707065, 1.3160652124999999, 2.059464442351218), ('Leonie Hill', 103.83439125000001, 1.298021965, 0.3702634223367477), ('Lim Chu Kang', 103.7183051, 1.431187478, 17.580257703876452), ('Little India', 103.8539692, 1.3069359585, 0.2796481982813839), ('Liu Fang', 103.70811165, 1.318587972, 2.350210136823425), ('Lorong 8 Toa Payoh', 103.85716675, 1.3406127685, 0.4417778278626065), ('Lorong Ah Soo', 103.88481859999999, 1.3582658565, 1.5228909116536944), ('Lorong Chuan', 103.86416614999999, 1.3491049395, 1.1858502411512017), ('Lorong Halus', 103.90293894999999, 1.371106755, 1.3400116795573014), ('Lorong Halus North', 103.91112115, 1.3808915814999998, 0.9293648087228666), ('Lower Seletar', 103.84743475, 1.4109173734999998, 8.494520360965298), ('Loyang East', 103.9733061, 1.367857725, 0.9747777016024793), ('Loyang West', 103.971146, 1.3767391525, 2.125053937244902), ('Mackenzie', 103.8485205, 1.306301419, 0.055949788847538005), ('Macpherson', 103.8849887, 1.327210654, 1.2695248382925821), ('Malcolm', 103.8337071, 1.3231392579999999, 1.327485333471741), ('Mandai East', 103.81091055, 1.4288447235000001, 7.271139271962193), ('Mandai Estate', 103.8249863, 1.4264946900000002, 0.14383772734201558), ('Mandai West', 103.7885211, 1.418237629, 4.40853541732995), ('Margaret Drive', 103.80873075, 1.299382774, 1.0314239971385997), ('Marina Centre', 103.85958690000001, 1.2931162619999998, 0.891235069976492), ('Marina East', 103.87277080000001, 1.2879909855, 1.8529622553819718), ('Marina East (MP)', 103.88711190000001, 1.291150992, 1.5980155768091118), ('Marina South', 103.86547095, 1.2808441125, 1.6382395497547988), ('Marine Parade', 103.90812205, 1.3024669755, 1.1656227490926632), ('Maritime Square', 103.8128462, 1.2683221640000002, 2.7149907464649825), ('Marymount', 103.84563045, 1.3538886665, 1.9736657780853513), ('Matilda', 103.89654795000001, 1.4023035565, 1.4251902149899525), ('Maxwell', 103.84563815, 1.2791942760000001, 0.06397126552948976), ('Mei Chin', 103.80369465, 1.29386105, 0.7522981945130414), ('Midview', 103.79047895, 1.439940172, 0.9409925415265298), (\"Monk's Hill\", 103.8421903, 1.3071384865, 0.17255072518732958), ('Moulmein', 103.84338435, 1.3169622805, 1.3539756499376927), ('Mount Emily', 103.84756295, 1.302552258, 0.1949295227384755), ('Mount Pleasant', 103.82845995, 1.333768948, 3.15817758135222), ('Mountbatten', 103.89101875, 1.302561549, 1.7219018341282664), ('Nassim', 103.82619245000001, 1.3135541485000002, 2.106220138613362), (\"National University of S'pore\", 103.77748009999999, 1.2968526795, 1.7644293755486797), ('Nature Reserve', 103.77936679999999, 1.353617721, 4.161415322294224), ('Nee Soon', 103.8144278, 1.4048848035, 2.217446348007943), ('Newton Circus', 103.83886, 1.3116193475, 0.21461420587269459), ('North Coast', 103.78098415, 1.4508620765, 2.4627712128742316), ('North-Eastern Islands', 104.0074278, 1.3891023155000002, 57.186921425614436), ('Northland', 103.83819165, 1.4378761975, 1.5183850701478423), ('Northshore', 103.9059536, 1.4155065955000001, 1.366632872580294), ('One North', 103.7912737, 1.2986906075, 2.0615641512152796), ('One Tree Hill', 103.82702265, 1.3018210385, 0.34238954588921844), ('Orange Grove', 103.8301431, 1.310031111, 0.33784605896838005), ('Oxley', 103.8402293, 1.2968393429999998, 0.20101835191489956), ('Pandan', 103.75489005, 1.3079871905, 1.3192671015033466), ('Pang Sua', 103.7472402, 1.412542456, 2.1859828807012764), ('Pasir Panjang 1', 103.777557, 1.2860247880000002, 1.0900276098226642), ('Pasir Panjang 2', 103.7944321, 1.277551372, 0.8573196014574842), ('Pasir Ris Central', 103.94626654999999, 1.3723848575, 1.518824346668771), ('Pasir Ris Drive', 103.95967110000001, 1.3678919115000001, 1.6476273217629933), ('Pasir Ris Park', 103.95253735, 1.3809743920000002, 1.7280618091694215), ('Pasir Ris Wafer Fab Park', 103.92904010000001, 1.38848145, 5.351322120802934), ('Pasir Ris West', 103.94030140000001, 1.3796649015, 1.591135592767978), ('Paterson', 103.83207285, 1.3015410615, 0.1739573133783779), ('Paya Lebar East', 103.9219663, 1.355127615, 2.2701924675996725), ('Paya Lebar North', 103.92564995000001, 1.373139323, 1.2936413018155326), ('Paya Lebar West', 103.91257195, 1.372712881, 0.6128563569193557), (\"Pearl's Hill\", 103.84003105, 1.2854803525, 0.5625176408015614), ('Pei Chun', 103.85798439999999, 1.3370002385, 0.4133983746041395), ('Peng Siang', 103.73800035, 1.379658123, 0.8669287511249241), ('Penjuru Crescent', 103.74178635000001, 1.3046422130000002, 3.064444822590713), (\"People's Park\", 103.84072979999999, 1.2822872995, 0.09358976466533023), ('Phillip', 103.8485652, 1.2851616625, 0.03962830921276691), ('Pioneer Sector', 103.6613003, 1.3004968605, 2.8094903691328637), ('Plab', 103.91152915, 1.3593401589999998, 7.068941267473165), ('Port', 103.77590015, 1.278178789, 7.638551021121639), ('Potong Pasir', 103.8660512, 1.3333387614999999, 0.6422382271801508), ('Pulau Punggol Barat', 103.87768355, 1.4246514399999999, 2.060054980054756), ('Pulau Punggol Timor', 103.89039844999999, 1.4195766349999999, 1.2658918194861872), ('Pulau Seletar', 103.8650652, 1.4440479815, 1.619157760671451), ('Punggol Canal', 103.9193863, 1.4070586035, 1.272087749658258), ('Punggol Field', 103.91139805, 1.3944193585, 1.3854253533520204), ('Punggol Town Centre', 103.90125555, 1.4088089385, 1.270544995809405), ('Queensway', 103.79857305, 1.288938828, 0.6346899822412161), ('Raffles Place', 103.8508671, 1.2836388744999998, 0.1896786217974659), ('Redhill', 103.81701495, 1.2876396705, 0.3892987794800956), ('Reservoir View', 103.74493355, 1.4310518895, 3.3001713841451057), ('Ridout', 103.81250614999999, 1.3037666959999998, 1.9612971924907108), ('Rivervale', 103.90559815, 1.3881267425, 1.5766606007848896), ('Robertson Quay', 103.8370419, 1.2915859479999998, 0.5090348977313625), ('Rochor Canal', 103.85715625, 1.303956263, 0.1207525421714945), ('Safti', 103.6833916, 1.335460509, 1.531923579738068), ('Samulun', 103.7022221, 1.3073745575, 1.9500644528388602), ('Saujana', 103.76660605000001, 1.3855919215, 0.6782757223226963), ('Selegie', 103.84979775, 1.302381295, 0.0498661679390807), ('Seletar', 103.88246235, 1.4099019835000002, 3.935160861739023), ('Seletar Aerospace Park', 103.86637495, 1.4131008915, 3.639499935057975), ('Seletar Hills', 103.8675133, 1.3838312259999999, 2.3420180069951857), ('Semakau', 103.7784504, 1.2028545605, 2.1990635306620336), ('Sembawang Central', 103.81770655, 1.4465026315, 0.9671438216957086), ('Sembawang East', 103.83155505, 1.4476474785, 0.7618307712720617), ('Sembawang Hills', 103.83136114999999, 1.3742574355000001, 0.8988632843828237), ('Sembawang North', 103.8161395, 1.455765245, 1.4016945710691835), ('Sembawang Springs', 103.82430740000001, 1.4415208425000001, 1.1047680651452083), ('Sembawang Straits', 103.8361034, 1.4581009155, 1.5482761710377144), ('Sengkang Town Centre', 103.89746145000001, 1.3914418094999998, 1.4625899525725983), ('Sengkang West', 103.8607804, 1.3947206205, 1.678159926840581), ('Senja', 103.75978165000001, 1.3851717845, 0.6279175079285233), ('Sennett', 103.87365464999999, 1.3328356590000001, 0.8719520908734558), ('Senoko North', 103.80382929999999, 1.463097616, 2.2523669639205766), ('Senoko South', 103.8066062, 1.453360189, 1.7504831688782816), ('Senoko West', 103.79664174999999, 1.4513653655, 0.9103543457965316), ('Sentosa', 103.82756065000001, 1.24900114, 5.785765190523371), ('Serangoon Central', 103.8703372, 1.352433592, 1.0670402008817836), ('Serangoon Garden', 103.86660875, 1.3629114585000002, 3.037828571087457), ('Serangoon North', 103.87264195, 1.3743049695, 0.6880322728795273), ('Serangoon North Ind Estate', 103.8651528, 1.3740598375, 0.925909464972674), ('Shangri-La', 103.8381804, 1.3679167295, 0.6912723277887562), ('Shipyard', 103.68946105, 1.307237701, 2.1287266721916693), ('Siglap', 103.9270488, 1.3066702735, 1.1031351403785539), ('Simei', 103.95212864999999, 1.3403490580000001, 2.79208965585889), ('Simpang North', 103.84566825, 1.447848393, 3.4673401490819744), ('Simpang South', 103.85583199999999, 1.434178567, 2.1575686087155828), ('Singapore General Hospital', 103.83432149999999, 1.2797068025, 0.5355886106569596), ('Singapore Polytechnic', 103.77810915, 1.3121834305, 0.9512289201340446), ('Somerset', 103.83902929999999, 1.301491105, 0.33102950477435117), ('Southern Group', 103.84722155, 1.228940738, 3.2926714851262204), ('Springleaf', 103.82540030000001, 1.4031615765, 2.2199773862989423), ('Straits View', 103.8585487, 1.270492, 1.1327332090250002), ('Sudong', 103.7248434, 1.1860950495, 2.753963588766587), ('Sungei Road', 103.85669595, 1.3056595949999998, 0.116892763823098), ('Sunset Way', 103.7698264, 1.325798046, 0.9693540690579631), ('Swiss Club', 103.79213605000001, 1.3402325904999999, 3.483838813328739), ('Tagore', 103.82919855, 1.386026344, 3.350417104590297), ('Tai Seng', 103.88769995, 1.3430515280000002, 1.8047678414735584), ('Taman Jurong', 103.7209418, 1.3342531925, 1.4914837700456338), ('Tampines East', 103.95280865000001, 1.3535473864999998, 4.360866596893093), ('Tampines North', 103.94181295000001, 1.368068922, 2.5554522527776773), ('Tampines West', 103.9359427, 1.3482184959999999, 3.492053845196997), ('Tanglin', 103.8256189, 1.3049764525, 0.16834720519476834), ('Tanglin Halt', 103.79614135, 1.30176514, 0.5056503698372217), ('Tanjong Irau', 103.85225729999999, 1.4545471074999998, 1.079632349784206), ('Tanjong Pagar', 103.84598475, 1.2762743410000001, 0.1462213278416948), ('Tanjong Rhu', 103.87537285, 1.3012400265, 2.44635420714887), ('Teban Gardens', 103.74361135000001, 1.3152000095, 3.2029920085881622), ('Teck Whye', 103.75490755, 1.382648551, 1.0064603284110127), ('Telok Blangah Drive', 103.8097286, 1.2764770749999999, 1.4618432012718585), ('Telok Blangah Rise', 103.8242851, 1.274249186, 0.5362444450937619), ('Telok Blangah Way', 103.82020750000001, 1.2775198605, 0.27816173024190904), ('Tengah', 103.7273656, 1.3624689805, 7.406328832098898), ('Tengeh', 103.65243989999999, 1.337763403, 2.2620424567545525), ('The Wharves', 103.8245813, 1.464596147, 1.643823248457902), ('Tiong Bahru', 103.8317306, 1.2832358085000002, 0.4502899469691147), ('Tiong Bahru Station', 103.82660425, 1.2840690585, 0.35248050137501197), ('Toa Payoh Central', 103.8466554, 1.332948668, 1.1126305342267642), ('Toa Payoh West', 103.8422603, 1.3394720759999998, 1.042310073216404), ('Toh Guan', 103.74502305, 1.336327856, 0.7505008623394406), ('Toh Tuck', 103.75656839999999, 1.3323526865, 2.087856334371327), ('Townsville', 103.84794629999999, 1.3647092299999999, 0.5490575934985191), ('Trafalgar', 103.88127515, 1.3808320595, 1.7528687988083311), ('Tuas Bay', 103.64484905, 1.3179959289999998, 3.2187687612769245), ('Tuas North', 103.65119825, 1.326764411, 3.2758988379389393), ('Tuas Promenade', 103.63473085000001, 1.3300137840000001, 3.203502563293596), ('Tuas View', 103.6343326, 1.3051570195, 5.703157003073702), ('Tuas View Extension', 103.6321377, 1.259379081, 27.84395406786149), ('Tukang', 103.70882845, 1.326549838, 1.8904039135559378), ('Turf Club', 103.76226635, 1.4207089195, 3.30745423181661), ('Tyersall', 103.81241904999999, 1.314856617, 2.168731186202695), ('Ulu Pandan', 103.78213875, 1.3156611515, 1.2344296177399612), ('Upper Paya Lebar', 103.87785285000001, 1.346645826, 0.9029167129839243), ('Upper Thomson', 103.8307513, 1.3549954130000001, 3.879063346913672), ('Victoria', 103.85297535000001, 1.2998190265, 0.21528441062353523), ('Waterway East', 103.9152622, 1.4015574325, 1.4964994104702691), ('Wenya', 103.7076367, 1.355761594, 1.984519090521926), ('West Coast', 103.75510650000001, 1.3161650075, 0.7260818847102747), ('Western Water Catchment', 103.69240525000001, 1.381525664, 71.8241769481796), ('Woodgrove', 103.77868649999999, 1.4284204534999998, 1.673600530619542), ('Woodlands East', 103.8020617, 1.4413155340000001, 2.5659459195415915), ('Woodlands Regional Centre', 103.78416115, 1.4389753889999999, 0.5985634068964555), ('Woodlands South', 103.79492905000001, 1.428927056, 1.5836986459798028), ('Woodlands West', 103.7758512, 1.439100163, 1.6566853165198427), ('Woodleigh', 103.86560765, 1.3395768060000002, 0.8173265214212916), ('Xilin', 103.96833515, 1.331939107, 7.871890220815449), ('Yew Tee', 103.7478413, 1.400860926, 0.9277079737906389), ('Yio Chu Kang', 103.84593674999999, 1.3845641180000001, 0.9138412053755838), ('Yio Chu Kang East', 103.8524769, 1.3840954315, 1.8709293563313714), ('Yio Chu Kang North', 103.8459856, 1.3927551280000001, 1.470403373543113), ('Yio Chu Kang West', 103.83947615, 1.3824279095, 0.8502552374553761), ('Yishun Central', 103.83790540000001, 1.426654778, 0.43849895722007204), ('Yishun East', 103.84685095, 1.4278155795, 1.7757211154103698), ('Yishun South', 103.8373529, 1.4185435284999999, 1.3467074488175241), ('Yishun West', 103.83058605, 1.4323867995000001, 1.5251805150327074), ('Yuhua East', 103.7396755, 1.3396426185, 0.9292418015900421), ('Yuhua West', 103.73267444999999, 1.3473333405, 0.7799025835536213), ('Yunnan', 103.69470335, 1.3449536915, 2.2169876802262296)]\n"
     ]
    }
   ],
   "source": [
    "from shape import *\n",
    "\n",
    "geo_info_list = sorted(open_shape('shape/subzone.shp'))\n",
    "\n",
    "print geo_info_list"
   ]
  },
  {
   "cell_type": "markdown",
   "metadata": {},
   "source": [
    "List will be sorted and added to the sorted data frame. (CSV file already contains lon, lat, area from prior preprocessing session)\n"
   ]
  },
  {
   "cell_type": "code",
   "execution_count": 3,
   "metadata": {
    "collapsed": false
   },
   "outputs": [
    {
     "name": "stdout",
     "output_type": "stream",
     "text": [
      "Name: \n",
      "Type: DiGraph\n",
      "Number of nodes: 323\n",
      "Number of edges: 84410\n",
      "Average in degree: 261.3313\n",
      "Average out degree: 261.3313\n"
     ]
    }
   ],
   "source": [
    "# make digraph\n",
    "\n",
    "# add edgelist\n",
    "graph.add_weighted_edges_from(edge_list)\n",
    "\n",
    "# add node attributes\n",
    "subset = subzone_data[\"subzone\"]\n",
    "weight_set = subzone_data[\"cases\"]\n",
    "normweight_set = subzone_data[\"normalize by sum\"]\n",
    "normmaxweight_set = subzone_data[\"normalize by max\"]\n",
    "lon_set = subzone_data[\"lon\"]\n",
    "lat_set = subzone_data[\"lat\"]\n",
    "area_set = subzone_data[\"area\"]\n",
    "pop_set = subzone_data[\"population\"]\n",
    "popdense_set = subzone_data[\"pop_density\"]\n",
    "\n",
    "for i, subzone in enumerate(subset):\n",
    "    graph.add_node(subzone, weight = float(weight_set[i]), \\\n",
    "                    normweightsum = float(normweight_set[i]),\\\n",
    "                    normweightmax = float(normmaxweight_set[i]), \\\n",
    "                    longitude = float(lon_set[i]),\\\n",
    "                    latitude = float(lat_set[i]),\\\n",
    "                    type_ = float(5 + 10*normmaxweight_set[i]),\\\n",
    "                    area = float(area_set[i]),\\\n",
    "                    population = float(pop_set[i]),\\\n",
    "                    popdensity = float(popdense_set[i]),\\\n",
    "                    hotspot = 1)\n",
    "\n",
    "print nx.info(graph)\n",
    "\n",
    "# export graph to gephi\n",
    "\n",
    "nx.write_gexf(graph, \"notebook_wo_features.gexf\")"
   ]
  },
  {
   "cell_type": "markdown",
   "metadata": {},
   "source": [
    "## Data Exploration\n",
    "Using matplotlib to eyeball general data for any significant trends.\n",
    "* population density has no clear correlation with chance of being an active hotspot\n",
    "* \n",
    "\n",
    "Gephi displays are attached in zip file"
   ]
  },
  {
   "cell_type": "code",
   "execution_count": 4,
   "metadata": {
    "collapsed": true
   },
   "outputs": [],
   "source": [
    "# label active hotspots\n",
    "for node in graph.nodes():\n",
    "    if graph.node[node]['weight']:\n",
    "        graph.node[node]['active_hotspot'] = 1\n",
    "    else:\n",
    "        graph.node[node]['active_hotspot'] = 0\n",
    "y = []\n",
    "for node in graph.nodes():\n",
    "    y.append(graph.node[node]['active_hotspot'])\n",
    "\n",
    "population_density = []\n",
    "for node in graph.nodes():\n",
    "    population_density.append(graph.node[node]['popdensity'])\n",
    "\n",
    "population = []\n",
    "for node in graph.nodes():\n",
    "    population.append(graph.node[node]['population'])\n",
    "\n"
   ]
  },
  {
   "cell_type": "code",
   "execution_count": 5,
   "metadata": {
    "collapsed": false
   },
   "outputs": [
    {
     "data": {
      "image/png": "[encoded data removed]",
      "text/plain": [
       "<matplotlib.figure.Figure at 0x11a11b3d0>"
      ]
     },
     "metadata": {},
     "output_type": "display_data"
    }
   ],
   "source": [
    "import matplotlib.pyplot as plt\n",
    "%matplotlib inline\n",
    "\n",
    "plt.figure()\n",
    "plt.plot(population_density, y, '.')\n",
    "plt.show()"
   ]
  },
  {
   "cell_type": "markdown",
   "metadata": {},
   "source": [
    "### Looking at Centrality, Pagerank and HITS score\n",
    "\n",
    "To better understand the humans movement on each subzone, various scores are computed:\n",
    "* betweenness centrality\n",
    "* eigenvector centrality\n",
    "* weighted Pagerank\n",
    "* HITS (hub and authority score)\n",
    "\n",
    "All these were added to the node attributes as possible features.\n",
    "\n",
    "Note: GraphGenerator object will be used to obtain the fully-processed combined, main and breeding habitat graphs"
   ]
  },
  {
   "cell_type": "markdown",
   "metadata": {},
   "source": [
    "#### Betweenness Centrality\n",
    "From the plot, lower eigenvector centrality is usually associated with the hotspot being passive. \n",
    "\n",
    "#### Eigenvector Centrality\n",
    "\n",
    "#### Pagerank\n",
    "\n",
    "#### HITS\n"
   ]
  },
  {
   "cell_type": "code",
   "execution_count": 6,
   "metadata": {
    "collapsed": false
   },
   "outputs": [],
   "source": [
    "import pandas as pd\n",
    "from graph import *\n",
    "from features import *\n",
    "GG = GraphGenerator(network_data, subzone_data)\n",
    "\n",
    "# get 3 main graphs from \n",
    "CG, G, BH = GG.get_graphs()\n",
    "\n",
    "FB = FeatureBuilder(CG, G, BH)\n",
    "X, y = FB.get_features_wo_change()\n",
    "\n",
    "new_X = X\n",
    "df = pd.DataFrame(new_X)"
   ]
  },
  {
   "cell_type": "code",
   "execution_count": 7,
   "metadata": {
    "collapsed": false
   },
   "outputs": [
    {
     "data": {
      "image/png": "[encoded data removed]",
      "text/plain": [
       "<matplotlib.figure.Figure at 0x1158fe710>"
      ]
     },
     "metadata": {},
     "output_type": "display_data"
    },
    {
     "data": {
      "image/png": "[encoded data removed]",
      "text/plain": [
       "<matplotlib.figure.Figure at 0x11a079f90>"
      ]
     },
     "metadata": {},
     "output_type": "display_data"
    },
    {
     "data": {
      "image/png": "[encoded data removed]",
      "text/plain": [
       "<matplotlib.figure.Figure at 0x122ec5510>"
      ]
     },
     "metadata": {},
     "output_type": "display_data"
    },
    {
     "data": {
      "image/png": "[encoded data removed]",
      "text/plain": [
       "<matplotlib.figure.Figure at 0x122e49950>"
      ]
     },
     "metadata": {},
     "output_type": "display_data"
    },
    {
     "data": {
      "image/png": "[encoded data removed]",
      "text/plain": [
       "<matplotlib.figure.Figure at 0x122b44ed0>"
      ]
     },
     "metadata": {},
     "output_type": "display_data"
    }
   ],
   "source": [
    "plt.title(\"Betweenness Centrality Plot\")\n",
    "plt.plot(df[1], y, '.')\n",
    "plt.ylim((-0.5,1.2))\n",
    "#plt.xlim((-0.9, 1.1))\n",
    "plt.show()\n",
    "\n",
    "\n",
    "plt.title(\"Eigenvector Centrality Plot\")\n",
    "plt.plot(df[2], y, '.')\n",
    "plt.ylim((-0.5,1.2))\n",
    "#plt.xlim((-0.9, 1.1))\n",
    "plt.show()\n",
    "\n",
    "plt.title(\"Pagerank Plot\")\n",
    "plt.plot(df[2], y, '.')\n",
    "plt.ylim((-0.5,1.2))\n",
    "#plt.xlim((-0.9, 1.1))\n",
    "plt.show()\n",
    "\n",
    "plt.title(\"Hub-score Plot\")\n",
    "plt.plot(df[3], y, '.')\n",
    "plt.ylim((-0.5,1.2))\n",
    "#plt.xlim((-0.9, 1.1))\n",
    "plt.show()\n",
    "\n",
    "plt.title(\"Authority-score Plot\")\n",
    "plt.plot(df[4], y, '.')\n",
    "plt.ylim((-0.5,1.2))\n",
    "#plt.xlim((-0.9, 1.1))\n",
    "plt.show()"
   ]
  },
  {
   "cell_type": "markdown",
   "metadata": {},
   "source": [
    "## Feature Building\n",
    "\n",
    "### 1. Effects of nearby Breeding Habitat (BH)\n",
    "In order to incorporate the breeding habitat location data, two new features were built:\n",
    "* Breeding habitat density (BHD) (count of BH wihtin 2km radius)\n",
    "* Breeding habitat proximity (BHP) is the reciprocal of sum of distance for 10 nearest breeding habitat\n",
    "\n"
   ]
  },
  {
   "cell_type": "code",
   "execution_count": 8,
   "metadata": {
    "collapsed": false
   },
   "outputs": [
    {
     "data": {
      "image/png": "[encoded data removed]",
      "text/plain": [
       "<matplotlib.figure.Figure at 0x11a069610>"
      ]
     },
     "metadata": {},
     "output_type": "display_data"
    },
    {
     "data": {
      "image/png": "[encoded data removed]",
      "text/plain": [
       "<matplotlib.figure.Figure at 0x1226916d0>"
      ]
     },
     "metadata": {},
     "output_type": "display_data"
    }
   ],
   "source": [
    "plt.title(\"BH Density-score Plot\")\n",
    "plt.plot(df[7], y, '.')\n",
    "plt.ylim((-0.5,1.2))\n",
    "plt.show()\n",
    "\n",
    "plt.title(\"BH Proximity-score Plot\")\n",
    "plt.plot(df[8], y, '.')\n",
    "plt.ylim((-0.5,1.2))\n",
    "plt.show()\n"
   ]
  },
  {
   "cell_type": "markdown",
   "metadata": {},
   "source": [
    "### 2. Neighbouring effects\n",
    "Bad Neighbours refers to the sources(S) that have high amount of dengue cases and send sizeable amount of people to the target(T) or targets which have high breeding habitat density which might be a factor in dengue outbreaks.\n",
    "\n",
    "#### a. Bad Neighbour In\n",
    "\n",
    "This refers to the effects of neighbouring active subzones sending high volume of people to subzone i.\n",
    "\n",
    "$$ BNI_{i} = w_{ji} * C_{i} *  e^{d_{ij}}$$\n",
    "where $$w_{ji} = \\frac{f_{ji}}{\\sum_{k=1}^{N} f_{ki}} $$\n",
    "\n",
    "N refers to the total number of nodes in the system. f refers to the normalised edge frequency and C refers to the case number at subzone i.\n",
    "\n",
    "#### b. Bad Neighbour Out\n",
    "\n",
    "This refers to the effects of neighbouring BH-dense subzones infecting people that subzone i sent out. The underlying assumption is that the outgoing people from subzone i will return to subzone i as their \"home\".\n",
    "\n",
    "$$BNO_{i} = \\sum_{j=1}^{N} w_{ij} * e^{BHD_{j}/BHP_{j}}$$\n",
    "where $$w_{ij} = \\frac{f_{ij}}{\\sum_{k=1}^{N} f_{ik}} $$\n"
   ]
  },
  {
   "cell_type": "code",
   "execution_count": 9,
   "metadata": {
    "collapsed": false
   },
   "outputs": [
    {
     "data": {
      "image/png": "[encoded data removed]",
      "text/plain": [
       "<matplotlib.figure.Figure at 0x122d87350>"
      ]
     },
     "metadata": {},
     "output_type": "display_data"
    },
    {
     "data": {
      "image/png": "[encoded data removed]",
      "text/plain": [
       "<matplotlib.figure.Figure at 0x122bdc450>"
      ]
     },
     "metadata": {},
     "output_type": "display_data"
    }
   ],
   "source": [
    "\n",
    "plt.title(\"BNI-Score Plot\")\n",
    "plt.plot(df[9], y, '.')\n",
    "plt.ylim((-0.5,1.2))\n",
    "plt.show()\n",
    "\n",
    "plt.title(\"BNO-score Plot\")\n",
    "plt.plot(df[10], y, '.')\n",
    "plt.ylim((-0.5,1.2))\n",
    "plt.show()"
   ]
  },
  {
   "cell_type": "markdown",
   "metadata": {},
   "source": [
    "### 2. 2nd Order Neighbouring effects\n",
    "From source to target, the path may not be direct, hence the cellular data may be unable to capture the human flow from source to target via an intermediate subzone. In order to close the \"triangle\", the weighted sum of BNI/BNO from of the target's possible sources will be calculated. \n",
    "\n",
    "#### a. Bad Neighbour In (2nd order)\n",
    "This refers to the effects of neighbouring subzones being an \"middleman\" for their neighbouring active subzone in redirecting people.\n",
    "\n",
    "For example, Punggol be receiving high incoming traffic from Pasir-ris but low incoming traffic from Sengkang. However Sengkang has a high outflow to Pasir-ris. Hence by taking into account a neighbour's neighbour, we can close up more of the gap in tracking human flow.\n",
    "\n",
    "$$BNI2_{i} = \\sum_{j=1}^{N} w_{ji} * (BNI_{j} - w_{ij} * C_{i} *  e^{d_{ij}})$$\n",
    "\n",
    "\n",
    "#### b. Bad Neighbour Out (2nd order)\n",
    "This refers to BNO's effect but taken a step further to include every neighbour of the target subzone's neighbour.\n",
    "\n"
   ]
  },
  {
   "cell_type": "code",
   "execution_count": 10,
   "metadata": {
    "collapsed": false
   },
   "outputs": [
    {
     "data": {
      "image/png": "[encoded data removed]",
      "text/plain": [
       "<matplotlib.figure.Figure at 0x122d9b090>"
      ]
     },
     "metadata": {},
     "output_type": "display_data"
    },
    {
     "data": {
      "image/png": "[encoded data removed]",
      "text/plain": [
       "<matplotlib.figure.Figure at 0x122e6ae10>"
      ]
     },
     "metadata": {},
     "output_type": "display_data"
    }
   ],
   "source": [
    "plt.title(\"BN2I-score Plot\")\n",
    "plt.plot(df[11], y, '.')\n",
    "plt.ylim((-0.5,1.2))\n",
    "plt.show()\n",
    "\n",
    "plt.title(\"BN2O-score Plot\")\n",
    "plt.plot(df[12], y, '.')\n",
    "plt.ylim((-0.5,1.2))\n",
    "plt.show()"
   ]
  },
  {
   "cell_type": "markdown",
   "metadata": {},
   "source": [
    "### 3. Weekday-Weekend Change\n",
    "The change in hub and authority score of each subzone from weekday to weekend is able to reflect some nature of the subzone, whether the subzone is a residential area, industrial area or workplace.\n",
    "\n",
    "\n"
   ]
  },
  {
   "cell_type": "code",
   "execution_count": 11,
   "metadata": {
    "collapsed": false
   },
   "outputs": [],
   "source": [
    "GG2 = GraphGenerator(wkend_network_data, subzone_data)\n",
    "WG, WOG, WBH = GG2.get_graphs()\n",
    "FB2 = FeatureBuilder(WG, WOG, WBH)\n",
    "FB.set_weekend_change(FB2.OG)\n",
    "X, y = FB.get_features()"
   ]
  },
  {
   "cell_type": "code",
   "execution_count": 12,
   "metadata": {
    "collapsed": false
   },
   "outputs": [
    {
     "data": {
      "image/png": "[encoded data removed]",
      "text/plain": [
       "<matplotlib.figure.Figure at 0x122ef7190>"
      ]
     },
     "metadata": {},
     "output_type": "display_data"
    },
    {
     "data": {
      "image/png": "[encoded data removed]",
      "text/plain": [
       "<matplotlib.figure.Figure at 0x122bf6f10>"
      ]
     },
     "metadata": {},
     "output_type": "display_data"
    }
   ],
   "source": [
    "df2 = pd.DataFrame(X)\n",
    "\n",
    "plt.title(\"Hub Change\")\n",
    "plt.plot(df2[13], y, '.')\n",
    "plt.ylim((-0.5,1.2))\n",
    "plt.show()\n",
    "\n",
    "plt.title(\"Authority Change\")\n",
    "plt.plot(df2[14], y, '.')\n",
    "plt.ylim((-0.5,1.2))\n",
    "plt.show()"
   ]
  },
  {
   "cell_type": "markdown",
   "metadata": {},
   "source": [
    "## Model Building\n",
    "A series of supervised learning models will be used to try and accurately classify the subzones by their hotspot activity. The reason for this is to try and understand which features are good identifiers of active hotspots, hence future hotspots can be identified before the situation gets worse.\n",
    "\n",
    "#### Model types\n",
    "* DummyClassifier - baseline estimator, if selecting the majority to be the \"True\"\n",
    "* LogisticRegression\n",
    "* Linear Support Vector Classifier(SVC)\n",
    "* SVC with radial basis function (rbf) kernel\n",
    "* RandomForestClassifier\n",
    "* ExtraTreesClassifier\n",
    "* KNearestClassifier\n",
    "* GradientBoostingClassifier\n",
    "\n",
    "#### Data Scaling\n",
    "sklearn.prepreocessing.MinMaxScaler was used to scale all numerical data prior to fitting to prevent larger features from overpowering numerically smaller variables.\n",
    "\n",
    "#### Feature Selection\n",
    "sklearn.feature_selection.SelectPercentile was used to reduce the feature set and improve training time.\n",
    "\n",
    "#### Pipeline\n",
    "Pipeline was built to fit scaler, feature selection and model, allowing room for more modular and flexible testing of custome features.\n",
    "\n",
    "#### Model Tuning\n",
    "Models were tuned using sklearn.grid_search.GridSearchCV with the following parameters:\n",
    "* 4-fold cross validation (to accommodate the small sample size)\n",
    "* 'f1_macro' scoring \n",
    "* weight_class = 'balanced' was set for all Classifiers except KNearestClassifier and GradientBoostingClassifier.\n"
   ]
  },
  {
   "cell_type": "code",
   "execution_count": 13,
   "metadata": {
    "collapsed": true
   },
   "outputs": [],
   "source": [
    "from sklearn.preprocessing import MinMaxScaler\n",
    "from sklearn.svm import SVC\n",
    "from sklearn.feature_selection import SelectPercentile, chi2\n",
    "from sklearn.pipeline import Pipeline\n",
    "\n",
    "# Example of SVC pipeline\n",
    "def svc_model():\n",
    "    select = SelectPercentile(score_func=chi2, percentile=21) #gridsearched\n",
    "    svc = SVC(class_weight='balanced', gamma=0, kernel='rbf', C=0.25, tol=0.1)  #gridsearched\n",
    "    scaler = MinMaxScaler()\n",
    "    pipeline = Pipeline([('scale', scaler), ('select', select),('svc', svc)])\n",
    "    return pipeline"
   ]
  },
  {
   "cell_type": "markdown",
   "metadata": {},
   "source": [
    "#### Cross-Validating\n",
    "4-fold CV is done using an \"f1_macro\" scoring which is takes the average f1 scores of both labels (passive and active). This scorer achieves the highest score differece between the DummyClassifier and the other learning models, hence is believed to be a good choice when scoring unbalanced data set (85.7% False). \n",
    "\n",
    "\"f1\" scorer focuses on label 1 (True) and resulted in high number of False predictions while \"f1_weighted\" amplified the imbalanceness by taking the respective label proportions as weights in averaging the 2 f1 scores.\n",
    "\n"
   ]
  },
  {
   "cell_type": "code",
   "execution_count": 14,
   "metadata": {
    "collapsed": false
   },
   "outputs": [
    {
     "name": "stdout",
     "output_type": "stream",
     "text": [
      "====================================================\n",
      "Dummy\n",
      "CV score(f1_macro): 0.4615 (+/- 0.00)\n",
      "Classification Report:\n",
      "             precision    recall  f1-score   support\n",
      "\n",
      "          0       0.81      1.00      0.89        51\n",
      "          1       0.00      0.00      0.00        12\n",
      "\n",
      "avg / total       0.66      0.81      0.72        63\n",
      "\n",
      "Confusion Matrix:\n",
      "[[51  0]\n",
      " [12  0]]\n",
      " \n",
      "====================================================\n",
      " \n",
      "LogisticRegression\n",
      "CV score(f1_macro): 0.7286 (+/- 0.11)\n",
      "Classification Report:\n",
      "             precision    recall  f1-score   support\n",
      "\n",
      "          0       0.98      0.82      0.89        51\n",
      "          1       0.55      0.92      0.69        12\n",
      "\n",
      "avg / total       0.90      0.84      0.85        63\n",
      "\n",
      "Confusion Matrix:\n",
      "[[42  9]\n",
      " [ 1 11]]\n",
      " \n",
      "====================================================\n",
      " \n",
      "LinearSVC\n",
      "CV score(f1_macro): 0.7366 (+/- 0.08)\n",
      "Classification Report:\n",
      "             precision    recall  f1-score   support\n",
      "\n",
      "          0       0.98      0.82      0.89        51\n",
      "          1       0.55      0.92      0.69        12\n",
      "\n",
      "avg / total       0.90      0.84      0.85        63\n",
      "\n",
      "Confusion Matrix:\n",
      "[[42  9]\n",
      " [ 1 11]]\n",
      " \n",
      "====================================================\n",
      " \n",
      "SVC w rbf\n",
      "CV score(f1_macro): 0.7553 (+/- 0.13)\n",
      "Classification Report:\n",
      "             precision    recall  f1-score   support\n",
      "\n",
      "          0       0.96      0.84      0.90        51\n",
      "          1       0.56      0.83      0.67        12\n",
      "\n",
      "avg / total       0.88      0.84      0.85        63\n",
      "\n",
      "Confusion Matrix:\n",
      "[[43  8]\n",
      " [ 2 10]]\n",
      " \n",
      "====================================================\n",
      " \n",
      "RandomForestClassifier\n",
      "CV score(f1_macro): 0.7465 (+/- 0.05)\n",
      "Classification Report:\n",
      "             precision    recall  f1-score   support\n",
      "\n",
      "          0       0.94      0.90      0.92        51\n",
      "          1       0.64      0.75      0.69        12\n",
      "\n",
      "avg / total       0.88      0.87      0.88        63\n",
      "\n",
      "Confusion Matrix:\n",
      "[[46  5]\n",
      " [ 3  9]]\n",
      " \n",
      "====================================================\n",
      " \n",
      "ExtraTreesClassifier\n",
      "CV score(f1_macro): 0.6662 (+/- 0.10)\n",
      "Classification Report:\n",
      "             precision    recall  f1-score   support\n",
      "\n",
      "          0       0.92      0.94      0.93        51\n",
      "          1       0.73      0.67      0.70        12\n",
      "\n",
      "avg / total       0.89      0.89      0.89        63\n",
      "\n",
      "Confusion Matrix:\n",
      "[[48  3]\n",
      " [ 4  8]]\n",
      " \n",
      "====================================================\n",
      " \n",
      "KNearestClassifier\n",
      "CV score(f1_macro): 0.7104 (+/- 0.08)\n",
      "Classification Report:\n",
      "             precision    recall  f1-score   support\n",
      "\n",
      "          0       0.89      0.92      0.90        51\n",
      "          1       0.60      0.50      0.55        12\n",
      "\n",
      "avg / total       0.83      0.84      0.84        63\n",
      "\n",
      "Confusion Matrix:\n",
      "[[47  4]\n",
      " [ 6  6]]\n",
      " \n",
      "====================================================\n",
      " \n",
      "GradientBoostingClassifier\n",
      "CV score(f1_macro): 0.6626 (+/- 0.15)\n",
      "Classification Report:\n",
      "             precision    recall  f1-score   support\n",
      "\n",
      "          0       0.91      0.94      0.92        51\n",
      "          1       0.70      0.58      0.64        12\n",
      "\n",
      "avg / total       0.87      0.87      0.87        63\n",
      "\n",
      "Confusion Matrix:\n",
      "[[48  3]\n",
      " [ 5  7]]\n",
      " \n",
      "====================================================\n",
      " \n"
     ]
    }
   ],
   "source": [
    "from train import *\n",
    "apply_model(X, y)"
   ]
  },
  {
   "cell_type": "markdown",
   "metadata": {},
   "source": [
    "#### Feature Importance\n",
    "Features are ranked accordingly by using a RandomForestClassifier's feature__importances_ attribute.\n",
    "\n",
    "The top 5 feature in terms of importances are the BNI-score, normalised population, HITS (both hub and authority) and eigenvector centrality. \n",
    "\n",
    "Feature 1 is edge-weighted betweenness centrality."
   ]
  },
  {
   "cell_type": "code",
   "execution_count": 15,
   "metadata": {
    "collapsed": false
   },
   "outputs": [
    {
     "name": "stdout",
     "output_type": "stream",
     "text": [
      "1. Feature 9 (0.147468)\n",
      "2. Feature 5 (0.114478)\n",
      "3. Feature 3 (0.080475)\n",
      "4. Feature 4 (0.077339)\n",
      "5. Feature 0 (0.076805)\n",
      "6. Feature 11 (0.074704)\n",
      "7. Feature 6 (0.068083)\n",
      "8. Feature 12 (0.067534)\n",
      "9. Feature 2 (0.056133)\n",
      "10. Feature 10 (0.055762)\n",
      "11. Feature 13 (0.047725)\n",
      "12. Feature 7 (0.044192)\n",
      "13. Feature 14 (0.043877)\n",
      "14. Feature 8 (0.041411)\n",
      "15. Feature 1 (0.004013)\n"
     ]
    },
    {
     "data": {
      "image/png": "[encoded data removed]",
      "text/plain": [
       "<matplotlib.figure.Figure at 0x122135a50>"
      ]
     },
     "metadata": {},
     "output_type": "display_data"
    }
   ],
   "source": [
    "feature_rank(X,y)"
   ]
  },
  {
   "cell_type": "markdown",
   "metadata": {
    "collapsed": true
   },
   "source": [
    "## Gephi Charts\n",
    "\n",
    "7 of the more important graphs are plotted to reveal some insights regarding the problem. \n",
    "For graph 1-6, pink represent passive subzones while green represent active hotspots.\n",
    "Size of the subzone will vary with the corresponding feature strenght.\n",
    "\n",
    "### Graph 1 - Eigenvector Centrality\n",
    "* No active subzones have a low EC whereas passive subzones vary in EC levels. \n",
    "* High EC may be a criteria for cases to appear since it represents the influence of the node on the network.\n",
    "\n",
    "### Graph 2 - Hub score (HITS)\n",
    "* From the graph, the relationship between hub score and dengue activity can be seen as most of the larger circles, representing subzones with high hub score, are have reported cases of dengue victims.\n",
    "\n",
    "\n",
    "### Graph 3 - Breeding Habitat Proximity\n",
    "* There is a weak relationship between BHP and dengue activity from the graph.\n",
    "* 3 noticeably large subzones (w.r.t BHP) have zero reported dengue cases however this could perhaps be a warning sign for possible cases in the future.\n",
    "\n",
    "### Graph 4 - Bad Neighbour (In) effect\n",
    "* There is an observable and strong correlation between the dengue activity and the BNI-score. This supports the reasoning that if your close neighbouring nodes are active, there is tendency for the dengue activity to spread to you. Note: \"close\" refers to distance and/or in-flow.\n",
    "* \n",
    "\n",
    "### Graph 5 - 2nd Order Bad Neighbour (In) effect\n",
    "* There is an weaker correlation between dengue activity and BN2I score as compared to BNI. Nonetheless, having a higher BN2I score \n",
    "\n",
    "### Graph 6 - Bad Neighbour (Out) effect\n",
    "* There is a correlation between dengue activity and BNO score as a subzone with higher BNO score (circle size) tends to be an active subzone.\n",
    "\n",
    "### Graph 7 - Hub score change\n",
    "* color scale - purple (negative) to white (neutral) to green (positive)\n",
    "* size - number of case\n",
    "* From the graph, all active subzones experienced an increase in hub score, which means there is a higher outflow of people from the subzones in the weekend compared to weekdays.\n",
    "* "
   ]
  },
  {
   "cell_type": "code",
   "execution_count": null,
   "metadata": {
    "collapsed": true
   },
   "outputs": [],
   "source": []
  }
 ],
 "metadata": {
  "kernelspec": {
   "display_name": "Python 2",
   "language": "python",
   "name": "python2"
  },
  "language_info": {
   "codemirror_mode": {
    "name": "ipython",
    "version": 2
   },
   "file_extension": ".py",
   "mimetype": "text/x-python",
   "name": "python",
   "nbconvert_exporter": "python",
   "pygments_lexer": "ipython2",
   "version": "2.7.11"
  }
 },
 "nbformat": 4,
 "nbformat_minor": 0
}
